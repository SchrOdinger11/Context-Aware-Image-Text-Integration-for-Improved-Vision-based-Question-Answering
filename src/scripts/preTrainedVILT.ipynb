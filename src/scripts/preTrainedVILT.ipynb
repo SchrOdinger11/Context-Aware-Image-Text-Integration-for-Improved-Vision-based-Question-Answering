{
 "cells": [
  {
   "cell_type": "code",
   "execution_count": 18,
   "metadata": {},
   "outputs": [
    {
     "name": "stderr",
     "output_type": "stream",
     "text": [
      "/Users/sudhanshu/Desktop/UMASS_COURSES_SEMESTERS/SEM_2/NLP/VITLLMs/vqa/lib/python3.11/site-packages/huggingface_hub/file_download.py:1132: FutureWarning: `resume_download` is deprecated and will be removed in version 1.0.0. Downloads always resume when possible. If you want to force a new download, use `force_download=True`.\n",
      "  warnings.warn(\n"
     ]
    }
   ],
   "source": [
    "from transformers import pipeline\n",
    "\n",
    "import os\n",
    "\n",
    "import json\n",
    "from PIL import Image\n",
    "import csv\n",
    "\n",
    "from PIL import Image\n",
    "pipe = pipeline(\"visual-question-answering\", model=\"MariaK/vilt_finetuned_200\")"
   ]
  },
  {
   "cell_type": "code",
   "execution_count": 30,
   "metadata": {},
   "outputs": [
    {
     "name": "stdout",
     "output_type": "stream",
     "text": [
      "Are there fruits in the plate?\n"
     ]
    }
   ],
   "source": [
    "\n",
    "image = Image.open(\"/Users/sudhanshu/Desktop/UMASS_COURSES_SEMESTERS/SEM_2/NLP/VITLLMs/src/dataset/final_eval/22090.jpg\")\n",
    "question = \"Are there fruits in the plate?\"\n",
    "print(question)\n",
    "a=[]\n",
    "a.append(pipe(image, question, top_k=1))\n",
    "\n",
    "\n"
   ]
  },
  {
   "cell_type": "markdown",
   "metadata": {},
   "source": [
    "Generating CSV file for getting results of segmented images on VILT"
   ]
  },
  {
   "cell_type": "code",
   "execution_count": 25,
   "metadata": {},
   "outputs": [],
   "source": [
    "\n",
    "\n",
    "# Replace 'pipe' with the actual function you are using to process images and questions\n",
    "\n",
    "# Path to the directory containing images\n",
    "image_directory = \"/Users/sudhanshu/Desktop/UMASS_COURSES_SEMESTERS/SEM_2/NLP/VITLLMs/src/segmentedImage\"\n",
    "fullDataSet = \"/Users/sudhanshu/Desktop/UMASS_COURSES_SEMESTERS/SEM_2/NLP/VITLLMs/src/dataset/combined_data1.json\"\n",
    "# Path to the JSON file containing questions\n",
    "json_file_path = \"/Users/sudhanshu/Desktop/UMASS_COURSES_SEMESTERS/SEM_2/NLP/VITLLMs/src/dataset/question_image_mapping.json\"\n",
    "json_fileId_path=\"/Users/sudhanshu/Desktop/UMASS_COURSES_SEMESTERS/SEM_2/NLP/VITLLMs/src/dataset/questionId_image_mapping.json\"\n",
    "# Load questions from the JSON file\n",
    "with open(json_file_path, 'r') as json_file:\n",
    "    questions = json.load(json_file)\n",
    "\n",
    "with open(json_fileId_path, 'r') as json_file:\n",
    "    questionsIds = json.load(json_file)\n",
    "\n",
    "\n",
    "with open(fullDataSet, 'r') as json_file:\n",
    "    data = json.load(json_file)\n",
    "\n",
    "def get_answer_details(question_id, data):\n",
    "    for annotation in data['annotations']:\n",
    "        if annotation['question_id'] == question_id:\n",
    "            return annotation['answer_type'], annotation['multiple_choice_answer']\n",
    "    return None, None\n",
    "# Extract annotations\n",
    "annotations = data.get('annotations', [])\n",
    "\n",
    "# List to store results\n",
    "results = []\n",
    "imageId =[]\n",
    "questionsStored=[]\n",
    "answerType= []\n",
    "expectedAnswer=[]\n",
    "# Iterate through each file in the image directory\n",
    "for image_name in os.listdir(image_directory):\n",
    "    if image_name.endswith(('.png', '.jpg', '.jpeg')):  # Ensure the file is an image\n",
    "        image_path = os.path.join(image_directory, image_name)\n",
    "        \n",
    "        # Open the image\n",
    "        image = Image.open(image_path)\n",
    "        image_id = image_name.split('_')[0]\n",
    "        imageId.append(image_id)\n",
    "        question_id =questionsIds.get(image_name)\n",
    "        answer_type, multiple_choice_answer = get_answer_details(question_id, data)\n",
    "        answerType.append(answer_type)\n",
    "        expectedAnswer.append(multiple_choice_answer)\n",
    "        \n",
    "        # Get the question for the current image from the JSON file\n",
    "        question = questions.get(image_name)\n",
    "        questionsStored.append(question)\n",
    "        # Process the image with the question\n",
    "        result = pipe(image, question, top_k=1)\n",
    "       \n",
    "        # Append the result to the results list\n",
    "        results.append(result[0]['answer'])\n",
    "\n",
    "# Print the results\n",
    "# for res in results:\n",
    "#     print(res)\n"
   ]
  },
  {
   "cell_type": "code",
   "execution_count": 26,
   "metadata": {},
   "outputs": [
    {
     "name": "stdout",
     "output_type": "stream",
     "text": [
      "CSV file has been written to /Users/sudhanshu/Desktop/UMASS_COURSES_SEMESTERS/SEM_2/NLP/VITLLMs/src/SegmentedImage_Baseline_VIT.csv\n"
     ]
    }
   ],
   "source": [
    "\n",
    "csv_file_path = '/Users/sudhanshu/Desktop/UMASS_COURSES_SEMESTERS/SEM_2/NLP/VITLLMs/src/SegmentedImage_Baseline_VIT.csv'\n",
    "\n",
    "# Write the data to a CSV file\n",
    "with open(csv_file_path, mode='w', newline='') as file:\n",
    "    writer = csv.writer(file)\n",
    "    \n",
    "    # Write the header\n",
    "    writer.writerow(['image_id', 'question', 'answer_type', 'expected_answer', 'generated_answer'])\n",
    "    \n",
    "    # Write the rows\n",
    "    for i in range(len(imageId)):\n",
    "        writer.writerow([imageId[i], questionsStored[i], answerType[i], expectedAnswer[i], results[i]])\n",
    "\n",
    "print(f\"CSV file has been written to {csv_file_path}\")"
   ]
  },
  {
   "cell_type": "markdown",
   "metadata": {},
   "source": [
    "Generating CSV from OG image\""
   ]
  },
  {
   "cell_type": "code",
   "execution_count": 27,
   "metadata": {},
   "outputs": [
    {
     "name": "stdout",
     "output_type": "stream",
     "text": [
      "CSV file has been written to /Users/sudhanshu/Desktop/UMASS_COURSES_SEMESTERS/SEM_2/NLP/VITLLMs/src/Baseline_OriginalImage_Text_Prompts_PreTrainedLLM.csv\n"
     ]
    }
   ],
   "source": [
    "\n",
    "# Function to get answer_type and multiple_choice_answer for a given question_id\n",
    "def get_answer_details(question_id, data):\n",
    "    for annotation in data['annotations']:\n",
    "        if annotation['question_id'] == question_id:\n",
    "            return annotation['answer_type'], annotation['multiple_choice_answer']\n",
    "    return None, None\n",
    "\n",
    "# Replace 'pipe' with the actual function you are using to process images and questions\n",
    "\n",
    "\n",
    "# Paths to the directories and files\n",
    "image_directory = \"/Users/sudhanshu/Desktop/UMASS_COURSES_SEMESTERS/SEM_2/NLP/VITLLMs/src/dataset/final_eval\"\n",
    "json_file_path = \"/Users/sudhanshu/Desktop/UMASS_COURSES_SEMESTERS/SEM_2/NLP/VITLLMs/src/dataset/filtered_dataForTestnew.json\"\n",
    "output_csv_path = \"/Users/sudhanshu/Desktop/UMASS_COURSES_SEMESTERS/SEM_2/NLP/VITLLMs/src/Baseline_OriginalImage_Text_Prompts_PreTrainedLLM.csv\"\n",
    "\n",
    "# Load questions from the JSON file\n",
    "with open(json_file_path, 'r') as json_file:\n",
    "    data = json.load(json_file)\n",
    "\n",
    "# Lists to store results\n",
    "results = []\n",
    "imageId = []\n",
    "questionsStored = []\n",
    "answerType = []\n",
    "expectedAnswer = []\n",
    "\n",
    "# Iterate through each annotation in the JSON data\n",
    "for annotation in data['annotations']:\n",
    "    image_id = str(annotation['image_id'])  # Convert to string to match with image filename\n",
    "    question = annotation['question']\n",
    "    question_id = annotation['question_id']\n",
    "    answer_type, multiple_choice_answer = get_answer_details(question_id, data)\n",
    "\n",
    "    # Append the data to respective lists\n",
    "    imageId.append(image_id)\n",
    "    questionsStored.append(question)\n",
    "    answerType.append(answer_type)\n",
    "    expectedAnswer.append(multiple_choice_answer)\n",
    "\n",
    "    # Construct the image file name and check if it exists in the directory\n",
    "    image_name = f\"{image_id}.jpg\"  # Assuming images are in .jpg format\n",
    "    image_path = os.path.join(image_directory, image_name)\n",
    "\n",
    "    if os.path.exists(image_path):\n",
    "        # Open the image\n",
    "        image = Image.open(image_path)\n",
    "\n",
    "        # Process the image with the question\n",
    "        result = pipe(image, question, top_k=1)\n",
    "        \n",
    "        # Append the result to the results list\n",
    "        results.append(result[0]['answer'])\n",
    "    else:\n",
    "        # If the image file does not exist, append a placeholder or handle the case as needed\n",
    "        results.append(\"Image not found\")\n",
    "\n",
    "# Write the data to a CSV file\n",
    "with open(output_csv_path, mode='w', newline='') as file:\n",
    "    writer = csv.writer(file)\n",
    "    \n",
    "    # Write the header\n",
    "    writer.writerow(['image_id', 'question', 'answer_type', 'expected_answer', 'generated_answer'])\n",
    "    \n",
    "    # Write the rows\n",
    "    for i in range(len(imageId)):\n",
    "        writer.writerow([imageId[i], questionsStored[i], answerType[i], expectedAnswer[i], results[i]])\n",
    "\n",
    "print(f\"CSV file has been written to {output_csv_path}\")\n",
    "\n"
   ]
  },
  {
   "cell_type": "markdown",
   "metadata": {},
   "source": []
  }
 ],
 "metadata": {
  "kernelspec": {
   "display_name": "vqa",
   "language": "python",
   "name": "python3"
  },
  "language_info": {
   "codemirror_mode": {
    "name": "ipython",
    "version": 3
   },
   "file_extension": ".py",
   "mimetype": "text/x-python",
   "name": "python",
   "nbconvert_exporter": "python",
   "pygments_lexer": "ipython3",
   "version": "3.11.5"
  }
 },
 "nbformat": 4,
 "nbformat_minor": 2
}
