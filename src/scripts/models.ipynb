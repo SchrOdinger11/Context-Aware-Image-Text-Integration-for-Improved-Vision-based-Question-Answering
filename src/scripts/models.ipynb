{
 "cells": [
  {
   "cell_type": "code",
   "execution_count": 1,
   "metadata": {},
   "outputs": [
    {
     "name": "stderr",
     "output_type": "stream",
     "text": [
      "/Users/sudhanshu/Desktop/UMASS_COURSES_SEMESTERS/SEM_2/NLP/Project/vqa/lib/python3.11/site-packages/tqdm/auto.py:21: TqdmWarning: IProgress not found. Please update jupyter and ipywidgets. See https://ipywidgets.readthedocs.io/en/stable/user_install.html\n",
      "  from .autonotebook import tqdm as notebook_tqdm\n"
     ]
    },
    {
     "name": "stdout",
     "output_type": "stream",
     "text": [
      "False\n"
     ]
    }
   ],
   "source": [
    "from transformers import pipeline\n",
    "import torch\n",
    "from lang_sam import LangSAM\n",
    "import numpy as np\n",
    "from segment_anything import SamPredictor, sam_model_registry\n",
    "print(torch.cuda.is_available())\n",
    "from transformers import AutoTokenizer, AutoModelForTokenClassification\n",
    "from transformers import pipeline, save_pretrained\n",
    "from transformers import T5ForConditionalGeneration, T5Tokenizer"
   ]
  },
  {
   "cell_type": "code",
   "execution_count": 27,
   "metadata": {},
   "outputs": [],
   "source": [
    "model_name = \"google/flan-t5-base\"\n",
    "class NERModel:\n",
    "    def __init__(self, model_path=\"google/flan-t5-base\"):\n",
    "        self.ner = T5ForConditionalGeneration.from_pretrained(model_path)\n",
    "        self.tokenizer = T5Tokenizer.from_pretrained(model_path)\n",
    "\n",
    "    \n",
    "    def extract_entities(self, instruction, text):\n",
    "        # Formulate the prompt according to FLAN T5 expected format\n",
    "        prompt = f\"{instruction}: {text}\"\n",
    "        \n",
    "        # Encode the prompt\n",
    "        input_ids = self.tokenizer.encode(prompt, return_tensors=\"pt\", max_length=512, truncation=True)\n",
    "        \n",
    "        # Generate the output from the model\n",
    "        outputs = self.ner.generate(input_ids, max_length=512, num_return_sequences=1)\n",
    "        \n",
    "        # Decode the generated ids to text\n",
    "        response = self.tokenizer.decode(outputs[0], skip_special_tokens=True)\n",
    "        return response\n",
    "    def save_model(self, save_path):\n",
    "        self.ner.save_pretrained(save_path)\n",
    "        self.tokenizer.save_pretrained(save_path)\n",
    "    \n",
    "class SamModelPrediction:\n",
    "    def __init__(self):\n",
    "        \n",
    "        self.sam = LangSAM(\"vit_h\",\"/Users/sudhanshu/Desktop/UMASS_COURSES_SEMESTERS/SEM_2/NLP/Project/modelCheckpoint/sam_vit_h_4b8939.pth\")\n",
    "        #self.predictor = SamPredictor(self.sam)\n",
    "\n",
    "    def predict_image(self, image, prompt):\n",
    "        self.mask, _, _, _ = self.sam.predict(image, prompt)\n",
    "        return self.mask\n",
    "        # self.predictor.set_image(image)  \n",
    "        # input_box = np.array([100, 100, 400, 400])\n",
    "        # self.masks, _, _ = self.predictor.predict(prompt) \n",
    "        # return self.masks \n",
    "\n",
    "\n"
   ]
  },
  {
   "cell_type": "code",
   "execution_count": 28,
   "metadata": {},
   "outputs": [
    {
     "name": "stderr",
     "output_type": "stream",
     "text": [
      "FutureWarning: `resume_download` is deprecated and will be removed in version 1.0.0. Downloads always resume when possible. If you want to force a new download, use `force_download=True`.\n",
      "Special tokens have been added in the vocabulary, make sure the associated word embeddings are fine-tuned or trained.\n"
     ]
    }
   ],
   "source": [
    "ner = NERModel()"
   ]
  },
  {
   "cell_type": "code",
   "execution_count": 29,
   "metadata": {},
   "outputs": [
    {
     "name": "stdout",
     "output_type": "stream",
     "text": [
      "fat man, sitting\n"
     ]
    }
   ],
   "source": [
    "\n",
    "instruction = \"Extract common nouns and persons from the following sentences:\"\n",
    "prompt = \"\"\"\n",
    "1. Sentence: \"The cat sat on the mat?\" Common Nouns: cat, sat, mat.\n",
    "2. Sentence: \"He drinks a lot of coffee and reads many books.\" Common Nouns:  coffee, reads, books.\n",
    "3. Sentence: \"Sky is blue and grass is green.\" Common Nouns: sky, blue, grass, green.\n",
    "4. Sentence: \"Is the  Boy is skateboarding on the wall?\" Common Nouns: boy, skateboarding, wall .\n",
    "5. Sentence: \"What color is teddy bear \" Common Nouns: teddy,bear, color\n",
    "Sentence: \"Fat man sitting on the couch.\"\n",
    "Common Nouns:\"\"\"\n",
    "\n",
    "# Encode the prompt\n",
    "response = ner.extract_entities(instruction, prompt)\n",
    "\n",
    "print(response)"
   ]
  },
  {
   "cell_type": "code",
   "execution_count": 32,
   "metadata": {},
   "outputs": [],
   "source": [
    "model_path = 'lang-segment-anything/fineTunedT5ForNER'\n",
    "ner.save_model('./fineTunedT5ForNER')\n"
   ]
  }
 ],
 "metadata": {
  "kernelspec": {
   "display_name": "vqa",
   "language": "python",
   "name": "python3"
  },
  "language_info": {
   "codemirror_mode": {
    "name": "ipython",
    "version": 3
   },
   "file_extension": ".py",
   "mimetype": "text/x-python",
   "name": "python",
   "nbconvert_exporter": "python",
   "pygments_lexer": "ipython3",
   "version": "3.11.5"
  }
 },
 "nbformat": 4,
 "nbformat_minor": 2
}
